{
 "cells": [
  {
   "cell_type": "code",
   "execution_count": 5,
   "metadata": {
    "collapsed": true
   },
   "outputs": [],
   "source": [
    "from scipy.optimize import  linprog"
   ]
  },
  {
   "cell_type": "code",
   "execution_count": 6,
   "outputs": [
    {
     "name": "stdout",
     "output_type": "stream",
     "text": [
      "-3359.999999913194\n",
      "[20. 30.]\n",
      "     con: array([], dtype=float64)\n",
      "     fun: -3359.999999913194\n",
      " message: 'Optimization terminated successfully.'\n",
      "     nit: 5\n",
      "   slack: array([1.29289646e-09, 1.23734480e-08, 4.00000000e+01])\n",
      "  status: 0\n",
      " success: True\n",
      "       x: array([20., 30.])\n"
     ]
    }
   ],
   "source": [
    "c=[-72,-64]\n",
    "a=[\n",
    "    [1,1],\n",
    "    [12,8],\n",
    "    [3,0]\n",
    "]\n",
    "b=[\n",
    "    [50],\n",
    "    [480],\n",
    "    [100]\n",
    "]\n",
    "lb=[0,0]\n",
    "ub=[None]*len(c)\n",
    "bound=tuple(zip(lb,ub))\n",
    "res=linprog(c,a,b,None,None,bound)\n",
    "print(res.fun)\n",
    "print(res.x)\n",
    "print(res)"
   ],
   "metadata": {
    "collapsed": false,
    "pycharm": {
     "name": "#%%\n"
    }
   }
  },
  {
   "cell_type": "code",
   "execution_count": 10,
   "outputs": [
    {
     "name": "stdout",
     "output_type": "stream",
     "text": [
      "     con: array([-3.74456022e-12, -4.56275123e-12])\n",
      "     fun: -3460.7999999379135\n",
      " message: 'Optimization terminated successfully.'\n",
      "     nit: 6\n",
      "   slack: array([8.92676155e-10, 8.61928129e-09, 7.60000000e+01])\n",
      "  status: 0\n",
      " success: True\n",
      "       x: array([2.52716845e-10, 1.68000000e+02, 1.92000000e+01, 1.62882778e-11,\n",
      "       2.40000000e+01, 1.56340355e-11])\n",
      "[2.52716845e-10 1.68000000e+02 1.92000000e+01 1.62882778e-11\n",
      " 2.40000000e+01 1.56340355e-11]\n"
     ]
    }
   ],
   "source": [
    "#例二\n",
    "c=[-24,-16,-44,-32,3,3]\n",
    "a=[\n",
    "    [1.0/3,1.0/4,0,0,1.0/3,1.0/4],\n",
    "    [4,2,0,0,6,4],\n",
    "    [1,0,0,0,1,0]\n",
    "]\n",
    "b=[\n",
    "    [50],\n",
    "    [480],\n",
    "    [100],\n",
    "]\n",
    "aeq=[[0,0,1,0,-0.8,0],\n",
    "     [0,0,0,1,0,-0.75]\n",
    "     ]\n",
    "beq=[\n",
    "    [0],\n",
    "    [0]\n",
    "]\n",
    "lb=[0,0,0,0,0,0]\n",
    "ub=[None]*len(c)\n",
    "res=linprog(c,a,b,aeq,beq,tuple(zip(lb,ub)))\n",
    "print(res)\n",
    "print(res.x)"
   ],
   "metadata": {
    "collapsed": false,
    "pycharm": {
     "name": "#%%\n"
    }
   }
  }
 ],
 "metadata": {
  "kernelspec": {
   "name": "pycharm-1dac48b0",
   "language": "python",
   "display_name": "PyCharm (shiyan)"
  },
  "language_info": {
   "codemirror_mode": {
    "name": "ipython",
    "version": 2
   },
   "file_extension": ".py",
   "mimetype": "text/x-python",
   "name": "python",
   "nbconvert_exporter": "python",
   "pygments_lexer": "ipython2",
   "version": "2.7.6"
  }
 },
 "nbformat": 4,
 "nbformat_minor": 0
}