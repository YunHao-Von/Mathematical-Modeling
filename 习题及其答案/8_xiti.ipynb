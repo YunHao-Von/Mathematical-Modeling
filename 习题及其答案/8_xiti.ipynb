{
 "cells": [
  {
   "cell_type": "code",
   "execution_count": 6,
   "metadata": {
    "collapsed": true,
    "pycharm": {
     "name": "#%% 8.1\n"
    }
   },
   "outputs": [
    {
     "name": "stdout",
     "output_type": "stream",
     "text": [
      "Eq(y(x), sqrt(2)*tan(sqrt(2)*x)/2)\n",
      "Eq(y(x), exp(x) + (-1/2 - sqrt(5)/10)*exp(x*(1 - sqrt(5))/2) + (-1/2 + sqrt(5)/10)*exp(x*(1 + sqrt(5))/2))\n"
     ]
    }
   ],
   "source": [
    "from sympy import diff,Function,dsolve,simplify\n",
    "from sympy.abc import x\n",
    "y = Function('y')\n",
    "#(1)\n",
    "eq1 = diff(y(x),x)-2*y(x)**2-1\n",
    "con1 = {y(0):0}\n",
    "y1 = dsolve(eq1,ics=con1)\n",
    "print(simplify(y1))\n",
    "#(2)\n",
    "eq2 = diff(y(x),x,3)-2*diff(y(x),x,2)+y(x)\n",
    "con2 = {y(0):0,diff(y(x),x).subs(x,0):1,diff(y(x),x,2).subs(x,0):0}\n",
    "y2 = dsolve(eq2,ics = con2)\n",
    "print((y2))"
   ]
  },
  {
   "cell_type": "code",
   "execution_count": 6,
   "outputs": [
    {
     "name": "stdout",
     "output_type": "stream",
     "text": [
      "Eq(x(t), (-sqrt(7)*sin(sqrt(7)*t/2)/7 + cos(sqrt(7)*t/2))*exp(3*t/2))\n",
      "Eq(y(t), 2*sqrt(7)*exp(3*t/2)*sin(sqrt(7)*t/2)/7)\n"
     ]
    },
    {
     "data": {
      "text/plain": "<Figure size 432x288 with 1 Axes>",
      "image/png": "[encoded data removed]"
     },
     "metadata": {
      "needs_background": "light"
     },
     "output_type": "display_data"
    }
   ],
   "source": [
    "import sympy as sp\n",
    "from numpy import sin,sqrt,cos,exp,linspace\n",
    "import matplotlib.pyplot as plt\n",
    "from pylab import rc\n",
    "t = sp.symbols('t')\n",
    "x,y = sp.symbols('x,y',cls=sp.Function)\n",
    "eq = [x(t).diff(t)-x(t)+2*y(t),\n",
    "      y(t).diff(t)-x(t)-2*y(t)]\n",
    "con = {x(0):1,y(0):0}\n",
    "y3 = sp.dsolve(eq,ics=con)\n",
    "print(y3[0])\n",
    "print(y3[1])\n",
    "rc('font',size=16)\n",
    "rc('text',usetex = True)\n",
    "t = linspace(0,1,1000)\n",
    "xt = lambda t:(-sqrt(7)*sin(sqrt(7)*t/2)/7 + cos(sqrt(7)*t/2))*exp(3*t/2)\n",
    "yt = lambda t:2*sqrt(7)*exp(3*t/2)*sin(sqrt(7)*t/2)/7\n",
    "plt.plot(t,xt(t),'r-',t,yt(t),'g-')\n",
    "plt.legend(['$x(t)$','$y(t)$'])\n",
    "plt.show()"
   ],
   "metadata": {
    "collapsed": false,
    "pycharm": {
     "name": "#%% 8.2\n"
    }
   }
  },
  {
   "cell_type": "code",
   "execution_count": 31,
   "outputs": [
    {
     "data": {
      "text/plain": "<Figure size 432x288 with 1 Axes>",
      "image/png": "[encoded data removed]"
     },
     "metadata": {
      "needs_background": "light"
     },
     "output_type": "display_data"
    }
   ],
   "source": [
    "from scipy.integrate import odeint\n",
    "import numpy as np\n",
    "import matplotlib.pyplot as plt\n",
    "def Pfun(y,x):\n",
    "    y1,y2,y3,y4,y5 = y\n",
    "\n",
    "    return np.array([0,0,0,-3*y1*y3+2*y2**2-y4,-2.4*y1*y5])\n",
    "x = np.arange(0,10,0.1)\n",
    "sol1 = odeint(Pfun,[0,0,0.68,1,-0.5],x)\n",
    "plt.rc('font',size=16)\n",
    "plt.rc('font',family='SimHei')\n",
    "plt.plot(x,sol1[:,1],'g-',x,sol1[:,2],'b--',x,sol1[:,3],'r*')\n",
    "plt.plot(x,sol1[:,4],'g-',x,sol1[:,0],'b-')\n",
    "plt.show()"
   ],
   "metadata": {
    "collapsed": false,
    "pycharm": {
     "name": "#%% 8.3\n"
    }
   }
  }
 ],
 "metadata": {
  "kernelspec": {
   "display_name": "Python 3",
   "language": "python",
   "name": "python3"
  },
  "language_info": {
   "codemirror_mode": {
    "name": "ipython",
    "version": 2
   },
   "file_extension": ".py",
   "mimetype": "text/x-python",
   "name": "python",
   "nbconvert_exporter": "python",
   "pygments_lexer": "ipython2",
   "version": "2.7.6"
  }
 },
 "nbformat": 4,
 "nbformat_minor": 0
}