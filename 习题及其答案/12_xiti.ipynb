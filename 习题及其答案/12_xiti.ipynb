{
 "cells": [
  {
   "cell_type": "code",
   "execution_count": 19,
   "metadata": {
    "collapsed": true,
    "pycharm": {
     "name": "#%% 12.1\n"
    }
   },
   "outputs": [
    {
     "name": "stdout",
     "output_type": "stream",
     "text": [
      "b0=-67.3538\n",
      "b12=106.9354    0.0275\n",
      "预测值为1265.6\n",
      "R^2 = 0.9836\n"
     ]
    }
   ],
   "source": [
    "import numpy as np\n",
    "from sklearn.linear_model import LinearRegression\n",
    "a = np.loadtxt('12_1.txt')\n",
    "md = LinearRegression().fit(a[:,1:],a[:,0])\n",
    "y = md.predict([[10,9600]])\n",
    "b0 = md.intercept_\n",
    "b12 = md.coef_\n",
    "R2 = md.score(a[:,1:],a[:,0])\n",
    "print('b0=%.4f\\nb12=%.4f%10.4f'%(b0,b12[0],b12[1]))\n",
    "print('预测值为%.1f'%y[0])\n",
    "print('R^2 = %.4f'%R2)"
   ]
  },
  {
   "cell_type": "code",
   "execution_count": 1,
   "outputs": [
    {
     "name": "stdout",
     "output_type": "stream",
     "text": [
      "[ 6.26509285e+04 -9.79057010e+02  2.86181588e-01]\n",
      "                            OLS Regression Results                            \n",
      "==============================================================================\n",
      "Dep. Variable:                      y   R-squared:                       0.902\n",
      "Model:                            OLS   Adj. R-squared:                  0.874\n",
      "Method:                 Least Squares   F-statistic:                     32.29\n",
      "Date:                Fri, 25 Sep 2020   Prob (F-statistic):           0.000292\n",
      "Time:                        11:33:30   Log-Likelihood:                -87.017\n",
      "No. Observations:                  10   AIC:                             180.0\n",
      "Df Residuals:                       7   BIC:                             180.9\n",
      "Df Model:                           2                                         \n",
      "Covariance Type:            nonrobust                                         \n",
      "==============================================================================\n",
      "                 coef    std err          t      P>|t|      [0.025      0.975]\n",
      "------------------------------------------------------------------------------\n",
      "const       6.265e+04   4013.010     15.612      0.000    5.32e+04    7.21e+04\n",
      "x1          -979.0570    319.784     -3.062      0.018   -1735.227    -222.887\n",
      "x2             0.2862      0.058      4.902      0.002       0.148       0.424\n",
      "==============================================================================\n",
      "Omnibus:                        2.361   Durbin-Watson:                   1.651\n",
      "Prob(Omnibus):                  0.307   Jarque-Bera (JB):                0.902\n",
      "Skew:                          -0.144   Prob(JB):                        0.637\n",
      "Kurtosis:                       1.557   Cond. No.                     9.94e+05\n",
      "==============================================================================\n",
      "\n",
      "Notes:\n",
      "[1] Standard Errors assume that the covariance matrix of the errors is correctly specified.\n",
      "[2] The condition number is large, 9.94e+05. This might indicate that there are\n",
      "strong multicollinearity or other numerical problems.\n"
     ]
    },
    {
     "name": "stderr",
     "output_type": "stream",
     "text": [
      "d:\\venv\\suanfa\\suanfa\\lib\\site-packages\\scipy\\stats\\stats.py:1604: UserWarning: kurtosistest only valid for n>=20 ... continuing anyway, n=10\n",
      "  \"anyway, n=%i\" % int(n))\n"
     ]
    }
   ],
   "source": [
    "import numpy as np\n",
    "import statsmodels.api as sm\n",
    "a = np.loadtxt('12_2.txt')\n",
    "X = sm.add_constant(a[:,:2])\n",
    "md = sm.OLS(a[:,2],X).fit()\n",
    "print(md.params)\n",
    "print(md.summary())"
   ],
   "metadata": {
    "collapsed": false,
    "pycharm": {
     "name": "#%% 12.2\n"
    }
   }
  },
  {
   "cell_type": "code",
   "execution_count": 15,
   "outputs": [
    {
     "name": "stdout",
     "output_type": "stream",
     "text": [
      "Optimization terminated successfully.\n",
      "         Current function value: 0.623416\n",
      "         Iterations 4\n",
      "[0.22376748] \n",
      "----------------------------------------------\n",
      "\n",
      "                        Results: Logit\n",
      "==============================================================\n",
      "Model:              Logit            Pseudo R-squared: 0.008  \n",
      "Dependent Variable: y                AIC:              10.7278\n",
      "Date:               2020-09-25 16:07 BIC:              10.6737\n",
      "No. Observations:   7                Log-Likelihood:   -4.3639\n",
      "Df Model:           0                LL-Null:          -4.3996\n",
      "Df Residuals:       6                LLR p-value:      nan    \n",
      "Converged:          1.0000           Scale:            1.0000 \n",
      "No. Iterations:     4.0000                                    \n",
      "-----------------------------------------------------------------\n",
      "      Coef.     Std.Err.      z       P>|z|      [0.025    0.975]\n",
      "-----------------------------------------------------------------\n",
      "x1    0.2238      0.3130    0.7149    0.4747    -0.3897    0.8372\n",
      "==============================================================\n",
      "\n",
      "预测一半有副作用的计量为：-0.0\n"
     ]
    },
    {
     "data": {
      "text/plain": "<Figure size 432x288 with 1 Axes>",
      "image/png": "[encoded data removed]"
     },
     "metadata": {
      "needs_background": "light"
     },
     "output_type": "display_data"
    }
   ],
   "source": [
    "import numpy as np\n",
    "x = np.array([0.9,1.1,1.8,2.3,3.0,3.3,4.0]).reshape(-1,1)\n",
    "p = np.array([0.37,0.31,0.44,0.60,0.67,0.81,0.79]).reshape(-1,1)\n",
    "import statsmodels.api as sm\n",
    "md = sm.Logit(p,x)\n",
    "md = md.fit()\n",
    "print(md.params,'\\n----------------------------------------------\\n')\n",
    "print(md.summary2())\n",
    "import matplotlib.pyplot as plt\n",
    "plt.plot(x,p,'ro')\n",
    "plt.show()"
   ],
   "metadata": {
    "collapsed": false,
    "pycharm": {
     "name": "#%% 12.3\n"
    }
   }
  },
  {
   "cell_type": "code",
   "execution_count": 14,
   "outputs": [
    {
     "name": "stdout",
     "output_type": "stream",
     "text": [
      "0.5501854459166676\n"
     ]
    }
   ],
   "source": [],
   "metadata": {
    "collapsed": false,
    "pycharm": {
     "name": "#%%\n"
    }
   }
  }
 ],
 "metadata": {
  "kernelspec": {
   "name": "pycharm-1dac48b0",
   "language": "python",
   "display_name": "PyCharm (shiyan)"
  },
  "language_info": {
   "codemirror_mode": {
    "name": "ipython",
    "version": 2
   },
   "file_extension": ".py",
   "mimetype": "text/x-python",
   "name": "python",
   "nbconvert_exporter": "python",
   "pygments_lexer": "ipython2",
   "version": "2.7.6"
  }
 },
 "nbformat": 4,
 "nbformat_minor": 0
}