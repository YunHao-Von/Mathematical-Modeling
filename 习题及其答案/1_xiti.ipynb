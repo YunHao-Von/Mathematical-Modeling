{
 "cells": [
  {
   "cell_type": "code",
   "execution_count": 4,
   "metadata": {
    "collapsed": true,
    "pycharm": {
     "name": "#%% 1.7\n"
    }
   },
   "outputs": [
    {
     "name": "stdout",
     "output_type": "stream",
     "text": [
      "153是水仙花数\n"
     ]
    }
   ],
   "source": [
    "n = int(input('请输入一个正整数：'))\n",
    "a = n % 10\n",
    "b = n // 10 % 10\n",
    "c = n // 100\n",
    "if (pow(a,3)+pow(b,3)+pow(c,3) == n):\n",
    "    print('%d是水仙花数'%n)\n",
    "else:\n",
    "    print('%d不是水仙花数'%n)"
   ]
  },
  {
   "cell_type": "code",
   "execution_count": 5,
   "outputs": [
    {
     "name": "stdout",
     "output_type": "stream",
     "text": [
      "随机生成的数字是： 327\n",
      "输出后的数字为： 307\n"
     ]
    }
   ],
   "source": [
    "import numpy as np\n",
    "s = int(np.random.randint(100,999,1))\n",
    "print('随机生成的数字是：',s)\n",
    "a = s % 10\n",
    "c = s // 100\n",
    "s1 = c*100+a\n",
    "print('输出后的数字为：',s1)"
   ],
   "metadata": {
    "collapsed": false,
    "pycharm": {
     "name": "#%% 1.8\n"
    }
   }
  },
  {
   "cell_type": "code",
   "execution_count": 8,
   "outputs": [
    {
     "name": "stdout",
     "output_type": "stream",
     "text": [
      "千位以上的数字为： 400\n"
     ]
    }
   ],
   "source": [
    "x,y,z = eval(input('输入x,y,z的值：'))\n",
    "f = lambda x,y,z:x*x+y*y+z*z\n",
    "if f(x,y,z) > 1000:\n",
    "    cha = f(x,y,z) - 1000\n",
    "    print('千位以上的数字为：',cha)\n",
    "else:\n",
    "    print('三个数的和为：',f(x,y,z))"
   ],
   "metadata": {
    "collapsed": false,
    "pycharm": {
     "name": "#%% 1.9\n"
    }
   }
  },
  {
   "cell_type": "code",
   "execution_count": 10,
   "outputs": [
    {
     "name": "stdout",
     "output_type": "stream",
     "text": [
      "总运费为624375.000000\n"
     ]
    }
   ],
   "source": [
    "p,w,s = eval(input('请输入基本运费p,货物重量w,距离s:'))\n",
    "if s < 250:\n",
    "    d = 0\n",
    "    f = p*w*s*(1-d)\n",
    "elif s < 500:\n",
    "    d = 2.5/100\n",
    "    f = p*w*s*(1-d)\n",
    "elif s < 1000:\n",
    "    d = 4.5/100\n",
    "    f = p*w*s*(1-d)\n",
    "elif s < 2000:\n",
    "    d = 7.5/100\n",
    "    f = p*w*s*(1-d)\n",
    "elif s < 2500:\n",
    "    d = 9.0/100\n",
    "    f = p*w*s*(1-d)\n",
    "elif s < 3000:\n",
    "    d = 12.0/100\n",
    "    f = p*w*s*(1-d)\n",
    "else:\n",
    "    d = 15.0/100\n",
    "    f = p*w*s*(1-d)\n",
    "print('总运费为%f'%f)"
   ],
   "metadata": {
    "collapsed": false,
    "pycharm": {
     "name": "#%% 1.10\n"
    }
   }
  },
  {
   "cell_type": "code",
   "execution_count": 11,
   "outputs": [
    {
     "name": "stdout",
     "output_type": "stream",
     "text": [
      "2020年7月31日是周5\n"
     ]
    }
   ],
   "source": [
    "y,m,d = eval(input('输入年y,月m,日d：'))\n",
    "y0 = y - (14-m) // 12\n",
    "x = y0+y0//4-y0//100+y0//400\n",
    "m0 = m + 12*((14-m)//12)-2\n",
    "d0 = (d+x+(31*m0)//12)%7\n",
    "print('%d年%d月%d日是周%d'%(y,m,d,d0))"
   ],
   "metadata": {
    "collapsed": false,
    "pycharm": {
     "name": "#%%1.11\n"
    }
   }
  },
  {
   "cell_type": "code",
   "execution_count": 12,
   "outputs": [
    {
     "name": "stdout",
     "output_type": "stream",
     "text": [
      "每月应还贷83.757639元\n"
     ]
    }
   ],
   "source": [
    "N,r,P = eval(input('请输入年限N,年利率r,贷款金额:'))\n",
    "N1=12*N\n",
    "r1 = r/12/100\n",
    "h = (P*r1*pow((1+r1),N1))/(pow((1+r1),N1)-1)\n",
    "print('每月应还贷%f元'%h)"
   ],
   "metadata": {
    "collapsed": false,
    "pycharm": {
     "name": "#%% 1.12\n"
    }
   }
  },
  {
   "cell_type": "code",
   "execution_count": 13,
   "outputs": [
    {
     "name": "stdout",
     "output_type": "stream",
     "text": [
      "A,B之间的大圆弧距离为：16581.136445 km\n"
     ]
    }
   ],
   "source": [
    "import math\n",
    "A,B = eval(input('输入A,B点坐标[x1,y1],[x2,y2]：'))\n",
    "R = 6370\n",
    "d = R*math.acos(math.cos(A[0]-B[0])*math.cos(A[1])*math.cos(B[1])+math.sin(A[1])*math.sin(B[1]))\n",
    "print('A,B之间的大圆弧距离为：%f km'%d)"
   ],
   "metadata": {
    "collapsed": false,
    "pycharm": {
     "name": "#%% 1.13\n"
    }
   }
  },
  {
   "cell_type": "code",
   "execution_count": 14,
   "outputs": [
    {
     "name": "stdout",
     "output_type": "stream",
     "text": [
      "6\n",
      "28\n",
      "496\n"
     ]
    }
   ],
   "source": [
    "def yinshu(n):\n",
    "    yin = []\n",
    "    sum=0\n",
    "    for i in range(1,n):\n",
    "        if n%i == 0:\n",
    "            yin.append(i)\n",
    "    for j in range(len(yin)):\n",
    "        sum += yin[j]\n",
    "    if sum == n:\n",
    "        return n\n",
    "for i in range(1,1001):\n",
    "    c1 = yinshu(i)\n",
    "    if c1:\n",
    "        print(c1)"
   ],
   "metadata": {
    "collapsed": false,
    "pycharm": {
     "name": "#%% 1.14\n"
    }
   }
  },
  {
   "cell_type": "code",
   "execution_count": 15,
   "outputs": [
    {
     "name": "stdout",
     "output_type": "stream",
     "text": [
      "<zip object at 0x000002369DE73D08>\n"
     ]
    }
   ],
   "source": [
    "x=[1,2,3]\n",
    "y=[-1,-2,-3]\n",
    "print(zip(*zip(x,y)))"
   ],
   "metadata": {
    "collapsed": false,
    "pycharm": {
     "name": "#%% 1.15\n"
    }
   }
  },
  {
   "cell_type": "code",
   "execution_count": 17,
   "outputs": [
    {
     "name": "stdout",
     "output_type": "stream",
     "text": [
      "大写字母有4个，小写字母有4个，数字有7个，其它有4个\n"
     ]
    }
   ],
   "source": [
    "s = input('请输入字符串：')\n",
    "s = list(s)\n",
    "daxie=0\n",
    "xiaoxie = 0\n",
    "shuzi = 0\n",
    "other = 0\n",
    "for i in range(len(s)):\n",
    "    if s[i] >= 'a' and s[i] <= 'z':\n",
    "        xiaoxie += 1\n",
    "    elif s[i] >= 'A' and s[i] <= 'Z':\n",
    "        daxie += 1\n",
    "    elif s[i] >= '0' and s[i] <= '9':\n",
    "        shuzi += 1\n",
    "    else:\n",
    "        other += 1\n",
    "print('大写字母有%d个，小写字母有%d个，数字有%d个，其它有%d个'%(daxie,xiaoxie,shuzi,other))\n",
    "\n",
    " #abcd584SDS32S54%$^&"
   ],
   "metadata": {
    "collapsed": false,
    "pycharm": {
     "name": "#%% 1.16\n"
    }
   }
  },
  {
   "cell_type": "code",
   "execution_count": 18,
   "outputs": [
    {
     "name": "stdout",
     "output_type": "stream",
     "text": [
      "two  hundred and fifty \n"
     ]
    }
   ],
   "source": [
    "import locale\n",
    "\n",
    "NUMBER_CONSTANT = {0:\"zero \", 1:\"one\", 2:\"two\", 3:\"three\", 4:\"four\", 5:\"five\", 6:\"six\", 7:\"seven\",\n",
    "                8:\"eight\", 9:\"nine\", 10:\"ten\", 11:\"eleven\", 12:\"twelve\", 13:\"thirteen\",\n",
    "                14:\"fourteen\", 15:\"fifteen\", 16:\"sixteen\", 17:\"seventeen\", 18:\"eighteen\", 19:\"nineteen\" }\n",
    "IN_HUNDRED_CONSTANT = {2:\"twenty\", 3:\"thirty\", 4:\"forty\", 5:\"fifty\", 6:\"sixty\", 7:\"seventy\", 8:\"eighty\", 9:\"ninety\"}\n",
    "BASE_CONSTANT = {0:\" \", 1:\"hundred\", 2:\"thousand\", 3:\"million\", 4:\"billion\"}\n",
    "#supported number range is 1-n billion;\n",
    "def translateNumberToEnglish(number):\n",
    "    if str(number).isnumeric():\n",
    "        if str(number)[0] == '0' and len(str(number)) > 1:\n",
    "            return translateNumberToEnglish(int(number[1:]))\n",
    "        if int(number) < 20:\n",
    "            return NUMBER_CONSTANT[int(number)]\n",
    "        elif int(number) < 100:\n",
    "            if str(number)[1] == '0':\n",
    "                return IN_HUNDRED_CONSTANT[int(str(number)[0])]\n",
    "            else:\n",
    "                return IN_HUNDRED_CONSTANT[int(str(number)[0])] + \"-\" + NUMBER_CONSTANT[int(str(number)[1])]\n",
    "        else:\n",
    "            locale.setlocale(locale.LC_ALL, \"English_United States.1252\")\n",
    "            strNumber = locale.format(\"%d\"    , number, grouping=True)\n",
    "            numberArray = str(strNumber).split(\",\")\n",
    "            stringResult = \"\"\n",
    "            groupCount = len(numberArray) + 1\n",
    "            for groupNumber in numberArray:\n",
    "                if groupCount > 1 and groupNumber[0:] != \"000\":\n",
    "                    stringResult += str(getUnderThreeNumberString(str(groupNumber))) + \" \"\n",
    "                else:\n",
    "                    break\n",
    "                groupCount -= 1\n",
    "                if groupCount > 1:\n",
    "                    stringResult += BASE_CONSTANT[groupCount] + \",\"\n",
    "            endPoint = len(stringResult) - len(\" hundred,\")\n",
    "            #return stringResult[0:endPoint];\n",
    "            return stringResult\n",
    "\n",
    "    else:\n",
    "        print(\"please input a number!\")\n",
    "\n",
    "#between 0-999\n",
    "def getUnderThreeNumberString(number):\n",
    "    if str(number).isnumeric() and len(number) < 4:\n",
    "        if len(number) < 3:\n",
    "            return translateNumberToEnglish(int(number))\n",
    "        elif len(number) == 3 and number[0:] == \"000\":\n",
    "            return \" \"\n",
    "        elif len(number) == 3 and number[1:] == \"00\":\n",
    "            return NUMBER_CONSTANT[int(number[0])] + \"  \" + BASE_CONSTANT[1]\n",
    "        else:\n",
    "            return NUMBER_CONSTANT[int(number[0])] + \"  \" + BASE_CONSTANT[1] + \" and \" + translateNumberToEnglish((number[1:]))\n",
    "    else:\n",
    "        print(\"number must below 1000\")\n",
    "s = int(input('请输入一个数字：'))\n",
    "print(translateNumberToEnglish(s))"
   ],
   "metadata": {
    "collapsed": false,
    "pycharm": {
     "name": "#%% 1.17\n"
    }
   }
  }
 ],
 "metadata": {
  "kernelspec": {
   "display_name": "Python 3",
   "language": "python",
   "name": "python3"
  },
  "language_info": {
   "codemirror_mode": {
    "name": "ipython",
    "version": 2
   },
   "file_extension": ".py",
   "mimetype": "text/x-python",
   "name": "python",
   "nbconvert_exporter": "python",
   "pygments_lexer": "ipython2",
   "version": "2.7.6"
  }
 },
 "nbformat": 4,
 "nbformat_minor": 0
}