{
 "cells": [
  {
   "cell_type": "code",
   "execution_count": 1,
   "metadata": {
    "collapsed": true,
    "pycharm": {
     "name": "#%%6.1\n"
    }
   },
   "outputs": [
    {
     "name": "stdout",
     "output_type": "stream",
     "text": [
      "最优解： 410.0\n",
      "最优值：\n",
      " [1. 0. 0. 1. 1.]\n"
     ]
    }
   ],
   "source": [
    "import cvxpy as cp\n",
    "import numpy as np\n",
    "c = np.array([150,210,60,80,180])\n",
    "a = np.array([[210,300,100,130,260],[1,1,1,0,0],[0,0,1,1,0],[-1,0,0,0,1]])\n",
    "b = np.array([600,1,1,0])\n",
    "x = cp.Variable(5,integer=True)\n",
    "obj = cp.Maximize(c@x)\n",
    "con = [0<=x,x<=1,\n",
    "       a@x<=b]\n",
    "prob = cp.Problem(obj,con)\n",
    "prob.solve(solver = 'GLPK_MI',verbose = True)\n",
    "print('最优解：',prob.value)\n",
    "print('最优值：\\n',x.value)"
   ]
  },
  {
   "cell_type": "code",
   "execution_count": 2,
   "outputs": [
    {
     "name": "stdout",
     "output_type": "stream",
     "text": [
      "最优解： 10.0\n",
      "最优值：\n",
      " [1. 0. 0. 1. 0. 1.]\n"
     ]
    }
   ],
   "source": [
    "import cvxpy as cp\n",
    "import numpy as np\n",
    "c = np.array([3,5,2,4,2,3])\n",
    "a = np.array([8,13,6,9,5,7])\n",
    "b = np.array([24])\n",
    "x = cp.Variable(6,integer=True)\n",
    "obj = cp.Maximize(c@x)\n",
    "con = [0<=x,x<=1,\n",
    "       a@x<=b]\n",
    "prob = cp.Problem(obj,con)\n",
    "prob.solve(solver = 'GLPK_MI',verbose = True)\n",
    "print('最优解：',prob.value)\n",
    "print('最优值：\\n',x.value)"
   ],
   "metadata": {
    "collapsed": false,
    "pycharm": {
     "name": "#%% 6.2\n"
    }
   }
  },
  {
   "cell_type": "code",
   "execution_count": 0,
   "outputs": [],
   "source": [],
   "metadata": {
    "collapsed": false,
    "pycharm": {
     "name": "#%%6.3\n"
    }
   }
  },
  {
   "cell_type": "code",
   "execution_count": 3,
   "outputs": [
    {
     "name": "stdout",
     "output_type": "stream",
     "text": [
      "最优值为： 2249250.0\n",
      "最优解为：\n",
      " [55. 56. 69.]\n",
      "第一季度生产55台，第二季度生产56台，第三季度生产69台\n"
     ]
    }
   ],
   "source": [
    "import numpy as np\n",
    "import cvxpy as cp\n",
    "c1 = np.array([200,200,200])\n",
    "c2 = np.array([5800,5400,50])\n",
    "a = np.array([[-1,0,0],[-1,-1,0]])\n",
    "b = np.array([-40,-100])\n",
    "c = np.array([1,1,1])\n",
    "e = np.array([180])\n",
    "x = cp.Variable(3,integer=True)\n",
    "obj = cp.Minimize(c1@x**2+c2@x)\n",
    "con = [0<=x,x<=100,a@x<=b,c@x==e]\n",
    "prob = cp.Problem(obj,con)\n",
    "prob.solve()\n",
    "print('最优值为：',prob.value-560000)\n",
    "print('最优解为：\\n',x.value)\n",
    "print('第一季度生产{}台，第二季度生产{}台，第三季度生产{}台'\n",
    "      .format(int(x.value[0]),int(x.value[1]),int(x.value[2])))"
   ],
   "metadata": {
    "collapsed": false,
    "pycharm": {
     "name": "#%%6.4\n"
    }
   }
  },
  {
   "cell_type": "code",
   "execution_count": 29,
   "outputs": [
    {
     "name": "stdout",
     "output_type": "stream",
     "text": [
      "     fun: -32506953535.445816\n",
      "     jac: array([-509952., -465408.,  330240.])\n",
      " message: 'Inequality constraints incompatible'\n",
      "    nfev: 40\n",
      "     nit: 7\n",
      "    njev: 7\n",
      "  status: 4\n",
      " success: False\n",
      "       x: array([ 51527.84435155,  25371.16921765, -81580.46014174])\n"
     ]
    }
   ],
   "source": [
    "import numpy as np\n",
    "from scipy.optimize import minimize\n",
    "c = np.array([[1,4,5],[4,2,6],[5,6,3]])\n",
    "a = np.array([1,1,1])\n",
    "obj = lambda x: np.dot(np.dot(c,x.T),x)\n",
    "cons = {'type':'ineq','fun':lambda x:b-a@x.T*x}\n",
    "res = minimize(obj,np.ones(3),constraints=cons,bounds=None)\n",
    "print(res)"
   ],
   "metadata": {
    "collapsed": false,
    "pycharm": {
     "name": "#%%6.5\n"
    }
   }
  },
  {
   "cell_type": "code",
   "execution_count": null,
   "outputs": [],
   "source": [],
   "metadata": {
    "collapsed": false,
    "pycharm": {
     "name": "#%%6.6"
    }
   }
  }
 ],
 "metadata": {
  "kernelspec": {
   "display_name": "Python 3",
   "language": "python",
   "name": "python3"
  },
  "language_info": {
   "codemirror_mode": {
    "name": "ipython",
    "version": 2
   },
   "file_extension": ".py",
   "mimetype": "text/x-python",
   "name": "python",
   "nbconvert_exporter": "python",
   "pygments_lexer": "ipython2",
   "version": "2.7.6"
  }
 },
 "nbformat": 4,
 "nbformat_minor": 0
}