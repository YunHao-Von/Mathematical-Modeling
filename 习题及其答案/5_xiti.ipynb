{
 "cells": [
  {
   "cell_type": "code",
   "execution_count": 1,
   "metadata": {
    "collapsed": true,
    "pycharm": {
     "name": "#%% 5.1\n"
    }
   },
   "outputs": [
    {
     "name": "stdout",
     "output_type": "stream",
     "text": [
      "最优值为： 812.9999643172343\n",
      "最优点为： [ 9.89999969e+01  9.67377644e-07  3.33332345e-01  3.03190446e-06\n",
      " -9.99999868e+00]\n"
     ]
    }
   ],
   "source": [
    "from scipy.optimize import linprog\n",
    "c = [-8,2,-3,1,2]\n",
    "A = [[1,1,1,1,1],[1,2,2,1,6],[2,1,6,0,0],[0,0,2,2,5]]\n",
    "b = [400,800,200,200]\n",
    "bound = ((0,99),(0,99),(0,99),(0,99),(-10,None))\n",
    "res = linprog(c,A,b,None,None,bound)\n",
    "print('最优值为：',-res.fun)\n",
    "print('最优点为：',res.x)"
   ]
  },
  {
   "cell_type": "code",
   "execution_count": 21,
   "outputs": [
    {
     "name": "stdout",
     "output_type": "stream",
     "text": [
      "最优值： 0.4943\n",
      "最优解：\n",
      " [[ 0.2  -0.   -0.   -0.   -0.   -0.  ]\n",
      " [-0.    0.42 -0.   -0.   -0.   -0.  ]\n",
      " [-0.   -0.    1.   -0.   -0.   -0.  ]\n",
      " [-0.   -0.   -0.    0.5  -0.   -0.  ]\n",
      " [ 0.   -0.   -0.   -0.    0.46 -0.  ]\n",
      " [ 0.05 -0.   -0.   -0.   -0.    0.25]]\n"
     ]
    }
   ],
   "source": [
    "import cvxpy as cp\n",
    "import numpy as np\n",
    "c=[[0.032,0.005,0.03,-0.031,-0.027,0.01],\n",
    "   [0.005,0.1,0.085,-0.07,-0.05,0.02],\n",
    "   [0.03,0.085,0.333,-0.11,-0.02,0.042],\n",
    "   [-0.031,-0.07,-0.11,0.125,0.05,-0.06],\n",
    "   [-0.027,-0.05,-0.02,0.05,0.065,-0.02],\n",
    "   [0.01,0.02,0.042,-0.06,-0.02,0.08]]\n",
    "e =np.array([0.20,0.42,1,0.50,0.46,0.30]).reshape(6,1)\n",
    "d = np.array([0.25,0.25,0.25,0.25,0.25,0.25]).reshape(1,6)\n",
    "x = cp.Variable((6,6))\n",
    "obj = cp.Maximize(cp.sum(cp.multiply(c,x)))\n",
    "con = [cp.sum(x,axis=1,keepdims=True)<=e,\n",
    "       cp.sum(x,axis=0,keepdims=True)>=d,\n",
    "       x>=0]\n",
    "prob = cp.Problem(obj,con)\n",
    "prob.solve(solver='GLPK_MI',verbose = True)\n",
    "print('最优值：',prob.value)\n",
    "print('最优解：\\n',x.value)"
   ],
   "metadata": {
    "collapsed": false,
    "pycharm": {
     "name": "#%% 5.3\n"
    }
   }
  },
  {
   "cell_type": "code",
   "execution_count": 24,
   "outputs": [
    {
     "name": "stdout",
     "output_type": "stream",
     "text": [
      "最优值： 6177.499991273756\n",
      "最优解：\n",
      " [1.20000000e+03 4.00000001e+02 3.99999997e+02 3.75000000e+02\n",
      " 6.25000000e+02 1.50000000e+03 2.16798570e-08 6.00000000e+02\n",
      " 5.99999999e+02]\n"
     ]
    }
   ],
   "source": [
    "from scipy.optimize import linprog\n",
    "c = [-0.9,-1.4,-1.9,-0.45,-0.95,-1.45,0.05,-0.45,-0.95]\n",
    "A = [[1,1,1,0,0,0,0,0,0],\n",
    "     [0,0,0,1,1,1,0,0,0],\n",
    "     [0,0,0,0,0,0,1,1,1],\n",
    "     [-0.4,0.6,0.6,0,0,0,0,0,0],\n",
    "     [-0.2,-0.2,0.8,0,0,0,0,0,0],\n",
    "     [0,0,0,-0.85,0.15,0.15,0,0,0],\n",
    "     [0,0,0,-0.6,-0.6,0.4,0,0,0],\n",
    "     [0,0,0,0,0,0,-0.5,-0.5,0.5]]\n",
    "b = [2000,2500,1200,0,0,0,0,0]\n",
    "res = linprog(c,A,b,None,None)\n",
    "print('最优值：',-res.fun)\n",
    "print('最优解：\\n',res.x)"
   ],
   "metadata": {
    "collapsed": false,
    "pycharm": {
     "name": "#%% 5.4\n"
    }
   }
  },
  {
   "cell_type": "code",
   "execution_count": 2,
   "outputs": [
    {
     "name": "stdout",
     "output_type": "stream",
     "text": [
      "[0.1, 0.2, 0.30000000000000004, 0.4, 0.5, 0.6, 0.7, 0.7999999999999999, 0.8999999999999999, 0.9999999999999999]\n",
      "[552.7999908536015, 1153.5999995731022, 1754.399999896567, 2355.199999873402, 2955.999999944093, 3556.799999900552, 4157.59999983723, 4758.399999770319, 5359.199999716812, 5959.999999678991]\n"
     ]
    },
    {
     "data": {
      "text/plain": "<Figure size 432x288 with 1 Axes>",
      "image/png": "[encoded data removed]"
     },
     "metadata": {
      "needs_background": "light"
     },
     "output_type": "display_data"
    }
   ],
   "source": [
    "import matplotlib.pyplot as plt\n",
    "from scipy.optimize import linprog\n",
    "plt.rc('text',usetex=True)\n",
    "plt.rc('font',size=16)\n",
    "A = [[-1,-1,0,0],[0,0,-1,-1],[3,0,2,0],[0,3,0,2]]\n",
    "b = [-30,-30,120,48]\n",
    "s = 0.1\n",
    "aa=[]\n",
    "ss=[]\n",
    "while s < 1:\n",
    "    x1=-100*s\n",
    "    x2=-90*s+3*(1-s)\n",
    "    x3=-80*s\n",
    "    x4=-70*s+2*(1-s)\n",
    "    c = [x1,x2,x3,x4]\n",
    "    res = linprog(c,A,b,None,None)\n",
    "    x = res.x\n",
    "    Q = -res.fun\n",
    "    aa.append(s)\n",
    "    ss.append(Q)\n",
    "    s = s + 0.1\n",
    "print(aa)\n",
    "print(ss)\n",
    "plt.plot(aa,ss,'r*')\n",
    "plt.xlabel('$s$')\n",
    "plt.ylabel('$Q$',rotation=90)\n",
    "plt.show()"
   ],
   "metadata": {
    "collapsed": false,
    "pycharm": {
     "name": "#%%5.5\n"
    }
   }
  },
  {
   "cell_type": "code",
   "execution_count": 12,
   "outputs": [
    {
     "name": "stdout",
     "output_type": "stream",
     "text": [
      "最优值 479.99997327562096\n",
      "最优解 [240.00003719 239.99993608]\n"
     ]
    }
   ],
   "source": [
    "from scipy.optimize import linprog\n",
    "c = [-1,-1]\n",
    "A = [[3,2],[5,10],[-1,1]]\n",
    "b = [1200,10000,0]\n",
    "res = linprog(c,A,b,None,None)\n",
    "print('最优值',-res.fun)\n",
    "print('最优解',res.x)"
   ],
   "metadata": {
    "collapsed": false,
    "pycharm": {
     "name": "#%%\n"
    }
   }
  },
  {
   "cell_type": "code",
   "execution_count": 11,
   "outputs": [
    {
     "name": "stdout",
     "output_type": "stream",
     "text": [
      "最优值为： 480.0\n",
      "最优解为： [[240. 240.]]\n"
     ]
    }
   ],
   "source": [
    "import cvxpy as cp\n",
    "import numpy as np\n",
    "a = np.array([3,2])\n",
    "b = np.array([5,10])\n",
    "c = np.array([-1,1])\n",
    "L = np.array([1,1])\n",
    "x = cp.Variable((1,2),integer=True)\n",
    "obj = cp.Maximize(x@L)\n",
    "con = [x@a<=1200,x@b<=10000,x@c<=0,x>=0]\n",
    "prob = cp.Problem(obj,con)\n",
    "prob.solve(solver='GLPK_MI',verbose=True)\n",
    "print('最优值为：',prob.value)\n",
    "print('最优解为：',x.value)"
   ],
   "metadata": {
    "collapsed": false,
    "pycharm": {
     "name": "#%%\n"
    }
   }
  }
 ],
 "metadata": {
  "kernelspec": {
   "display_name": "Python 3",
   "language": "python",
   "name": "python3"
  },
  "language_info": {
   "codemirror_mode": {
    "name": "ipython",
    "version": 2
   },
   "file_extension": ".py",
   "mimetype": "text/x-python",
   "name": "python",
   "nbconvert_exporter": "python",
   "pygments_lexer": "ipython2",
   "version": "2.7.6"
  }
 },
 "nbformat": 4,
 "nbformat_minor": 0
}