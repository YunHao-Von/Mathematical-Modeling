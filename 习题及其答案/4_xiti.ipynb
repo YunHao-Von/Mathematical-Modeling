{
 "cells": [
  {
   "cell_type": "code",
   "execution_count": 76,
   "metadata": {
    "collapsed": true,
    "pycharm": {
     "name": "#%%4.1\n"
    }
   },
   "outputs": [
    {
     "name": "stdout",
     "output_type": "stream",
     "text": [
      "31.213000000015164\n"
     ]
    }
   ],
   "source": [
    "from scipy.stats import norm\n",
    "f = lambda delta: norm.cdf(200,160,delta) - norm.cdf(120,160,delta)-0.8\n",
    "i=1\n",
    "while f(i) >= 0:\n",
    "    i = i + 0.001\n",
    "print(i)"
   ]
  },
  {
   "cell_type": "code",
   "execution_count": 88,
   "outputs": [
    {
     "name": "stdout",
     "output_type": "stream",
     "text": [
      "[{a: b - Integral((-b + c)*f(x), (x, 0, n))/Integral(f(x), (x, n, oo))}]\n"
     ]
    }
   ],
   "source": [
    "from sympy import *\n",
    "x = symbols('x')\n",
    "f = symbols('f',cls=Function)\n",
    "a,b,c,n = symbols('a b c n')\n",
    "s = integrate(((a-b)*x-(b-c)*(n-x))*f(x),(x,0,n))+integrate((a-b)*n*f(x),(x,n,oo))\n",
    "print((solve(diff(s,n,1))))"
   ],
   "metadata": {
    "collapsed": false,
    "pycharm": {
     "name": "#%%4.2\n"
    }
   }
  },
  {
   "cell_type": "code",
   "execution_count": 80,
   "outputs": [
    {
     "name": "stdout",
     "output_type": "stream",
     "text": [
      "期望为： 2674.29348222349\n"
     ]
    }
   ],
   "source": [
    "from sympy.integrals import integrate\n",
    "from sympy import symbols,exp,oo\n",
    "x1 = symbols('x1')\n",
    "f1 = exp(-x1/8)/8\n",
    "y1 = integrate(f1,(x1,0,1))\n",
    "y2 = integrate(f1,(x1,1,2))\n",
    "y3 = integrate(f1,(x1,2,3))\n",
    "y4 = integrate(f1,(x1,3,oo))\n",
    "qiwang = 1500*y1+2000*y2+2500*y3+3000*y4\n",
    "print('期望为：',qiwang.n())"
   ],
   "metadata": {
    "collapsed": false,
    "pycharm": {
     "name": "#%%4.3\n"
    }
   }
  },
  {
   "cell_type": "code",
   "execution_count": 1,
   "outputs": [
    {
     "name": "stdout",
     "output_type": "stream",
     "text": [
      "统计量为：72.34，临界值为：12.591587243743977\n"
     ]
    }
   ],
   "source": [
    "import numpy as np\n",
    "from scipy.stats import chi2\n",
    "bins = np.arange(0,7)\n",
    "mi = np.array([22,37,20,13,6,2,0])\n",
    "n = mi.sum()\n",
    "p = np.ones(7)/7\n",
    "cha = (mi-n*p)**2/(n*p)\n",
    "st = cha.sum()\n",
    "bd = chi2.ppf(0.95,len(bins)-1)\n",
    "print('统计量为：{}，临界值为：{}'.format(st,bd))"
   ],
   "metadata": {
    "collapsed": false,
    "pycharm": {
     "name": "#%%4.4\n"
    }
   }
  },
  {
   "cell_type": "code",
   "execution_count": 2,
   "outputs": [
    {
     "name": "stdout",
     "output_type": "stream",
     "text": [
      "均值为：170.25，方差为：5.401786086961694\n",
      "统计量和P值为： [0.07534426415818629, 0.594586546199326]\n"
     ]
    }
   ],
   "source": [
    "import numpy as np\n",
    "import matplotlib.pyplot as plt\n",
    "import scipy.stats as ss\n",
    "a = np.loadtxt('Pdata4_6_2.txt')\n",
    "h = a[:,::2]\n",
    "h = h.flatten()\n",
    "mu = h.mean()\n",
    "s = h.std(ddof=1)\n",
    "print('均值为：{}，方差为：{}'.format(mu,s))\n",
    "v,p=ss.kstest(h,'norm',(mu,s))\n",
    "print('统计量和P值为：',[v,p])"
   ],
   "metadata": {
    "collapsed": false,
    "pycharm": {
     "name": "#%%4.5\n"
    }
   }
  },
  {
   "cell_type": "code",
   "execution_count": 3,
   "outputs": [
    {
     "name": "stdout",
     "output_type": "stream",
     "text": [
      "            df    sum_sq   mean_sq         F    PR(>F)\n",
      "C(x)       6.0  0.124737  0.020790  5.660069  0.000095\n",
      "Residual  63.0  0.231400  0.003673       NaN       NaN\n"
     ]
    }
   ],
   "source": [
    "import numpy as np\n",
    "import statsmodels.api as sa\n",
    "y = np.loadtxt('xiti_4_21.txt')\n",
    "y = y.T.flatten()\n",
    "b = np.arange(1,8)\n",
    "x = np.tile(b,(10,1)).T.flatten()\n",
    "d = {'x':x,'y':y}\n",
    "model = sa.formula.ols('y~C(x)',d).fit()\n",
    "nvant = sa.stats.anova_lm(model)\n",
    "print(nvant)"
   ],
   "metadata": {
    "collapsed": false,
    "pycharm": {
     "name": "#%%4.6"
    }
   }
  },
  {
   "cell_type": "code",
   "execution_count": 2,
   "outputs": [
    {
     "name": "stdout",
     "output_type": "stream",
     "text": [
      "拟合的多项式为：0.9880519420637354*x+(-0.10404608618970992)\n"
     ]
    },
    {
     "data": {
      "text/plain": "<Figure size 432x288 with 1 Axes>",
      "image/png": "[encoded data removed]"
     },
     "metadata": {
      "needs_background": "light"
     },
     "output_type": "display_data"
    }
   ],
   "source": [
    "import matplotlib.pyplot as plt\n",
    "import numpy as np\n",
    "x = [17.1,10.5,13.8,15.7,11.9,10.4,15.0,16.0,17.8,\n",
    "     15.8,15.1,12.1,18.4,17.1,16.7,16.5,15.1,15.1]\n",
    "y = [16.7,10.4,13.5,15.7,11.6,10.2,14.5,15.8,17.6,\n",
    "     15.2,14.8,11.9,18.3,16.7,16.6,15.9,15.1,14.5]\n",
    "plt.plot(x,y,'+k',label = '原始数据点')\n",
    "p = np.polyfit(x,y,deg=1)\n",
    "print('拟合的多项式为：{}*x+({})'.format(p[0],p[1]))\n",
    "plt.rc('font',size=16)\n",
    "plt.rc('font',family='SimHei')\n",
    "plt.plot(x,np.polyval(p,x),label='拟合的直线')\n",
    "plt.legend()\n",
    "plt.savefig('figure4_6.png',dpi=500)\n",
    "plt.show()"
   ],
   "metadata": {
    "collapsed": false,
    "pycharm": {
     "name": "#%%4.7\n"
    }
   }
  },
  {
   "cell_type": "code",
   "execution_count": 3,
   "outputs": [
    {
     "name": "stdout",
     "output_type": "stream",
     "text": [
      "                            OLS Regression Results                            \n",
      "==============================================================================\n",
      "Dep. Variable:                      y   R-squared:                       0.993\n",
      "Model:                            OLS   Adj. R-squared:                  0.993\n",
      "Method:                 Least Squares   F-statistic:                     2312.\n",
      "Date:                Sun, 09 Aug 2020   Prob (F-statistic):           9.81e-19\n",
      "Time:                        08:40:57   Log-Likelihood:                 4.3323\n",
      "No. Observations:                  18   AIC:                            -4.665\n",
      "Df Residuals:                      16   BIC:                            -2.884\n",
      "Df Model:                           1                                         \n",
      "Covariance Type:            nonrobust                                         \n",
      "==============================================================================\n",
      "                 coef    std err          t      P>|t|      [0.025      0.975]\n",
      "------------------------------------------------------------------------------\n",
      "Intercept     -0.1040      0.312     -0.333      0.743      -0.765       0.557\n",
      "x              0.9881      0.021     48.082      0.000       0.944       1.032\n",
      "==============================================================================\n",
      "Omnibus:                        1.138   Durbin-Watson:                   2.920\n",
      "Prob(Omnibus):                  0.566   Jarque-Bera (JB):                0.853\n",
      "Skew:                          -0.216   Prob(JB):                        0.653\n",
      "Kurtosis:                       2.025   Cond. No.                         100.\n",
      "==============================================================================\n",
      "\n",
      "Warnings:\n",
      "[1] Standard Errors assume that the covariance matrix of the errors is correctly specified. \n",
      "\n"
     ]
    },
    {
     "name": "stderr",
     "output_type": "stream",
     "text": [
      "d:\\venv\\suanfa\\suanfa\\lib\\site-packages\\scipy\\stats\\stats.py:1604: UserWarning: kurtosistest only valid for n>=20 ... continuing anyway, n=18\n",
      "  \"anyway, n=%i\" % int(n))\n"
     ]
    }
   ],
   "source": [
    "import statsmodels.api as sm\n",
    "x = [17.1,10.5,13.8,15.7,11.9,10.4,15.0,16.0,17.8,\n",
    "     15.8,15.1,12.1,18.4,17.1,16.7,16.5,15.1,15.1]\n",
    "y = [16.7,10.4,13.5,15.7,11.6,10.2,14.5,15.8,17.6,\n",
    "     15.2,14.8,11.9,18.3,16.7,16.6,15.9,15.1,14.5]\n",
    "df = {'x':x,'y':y}\n",
    "res = sm.formula.ols('y~x',data=df).fit()\n",
    "print(res.summary(),'\\n')\n"
   ],
   "metadata": {
    "collapsed": false,
    "pycharm": {
     "name": "#%%4.8\n"
    }
   }
  },
  {
   "cell_type": "code",
   "execution_count": 8,
   "outputs": [
    {
     "name": "stdout",
     "output_type": "stream",
     "text": [
      "[-0.10404609  0.98805194] \n",
      "--------------------------------------------------------------\n",
      "\n",
      "                 Results: Ordinary least squares\n",
      "=================================================================\n",
      "Model:              OLS              Adj. R-squared:     0.993   \n",
      "Dependent Variable: y                AIC:                -4.6647 \n",
      "Date:               2020-08-09 08:42 BIC:                -2.8840 \n",
      "No. Observations:   18               Log-Likelihood:     4.3323  \n",
      "Df Model:           1                F-statistic:        2312.   \n",
      "Df Residuals:       16               Prob (F-statistic): 9.81e-19\n",
      "R-squared:          0.993            Scale:              0.040702\n",
      "-------------------------------------------------------------------\n",
      "            Coef.    Std.Err.      t      P>|t|     [0.025   0.975]\n",
      "-------------------------------------------------------------------\n",
      "const      -0.1040     0.3120   -0.3335   0.7431   -0.7655   0.5574\n",
      "x1          0.9881     0.0205   48.0822   0.0000    0.9445   1.0316\n",
      "-----------------------------------------------------------------\n",
      "Omnibus:               1.138        Durbin-Watson:          2.920\n",
      "Prob(Omnibus):         0.566        Jarque-Bera (JB):       0.853\n",
      "Skew:                  -0.216       Prob(JB):               0.653\n",
      "Kurtosis:              2.025        Condition No.:          100  \n",
      "=================================================================\n",
      "\n"
     ]
    }
   ],
   "source": [
    "import statsmodels.api as sm\n",
    "x = [17.1,10.5,13.8,15.7,11.9,10.4,15.0,16.0,17.8,\n",
    "     15.8,15.1,12.1,18.4,17.1,16.7,16.5,15.1,15.1]\n",
    "y = [16.7,10.4,13.5,15.7,11.6,10.2,14.5,15.8,17.6,\n",
    "     15.2,14.8,11.9,18.3,16.7,16.6,15.9,15.1,14.5]\n",
    "X=sm.add_constant(x)\n",
    "md = sm.OLS(y,X).fit()\n",
    "print(md.params,'\\n--------------------------------------------------------------\\n')\n",
    "print(md.summary2())"
   ],
   "metadata": {
    "collapsed": false,
    "pycharm": {
     "name": "#%%4.9\n"
    }
   }
  }
 ],
 "metadata": {
  "kernelspec": {
   "display_name": "Python 3",
   "language": "python",
   "name": "python3"
  },
  "language_info": {
   "codemirror_mode": {
    "name": "ipython",
    "version": 2
   },
   "file_extension": ".py",
   "mimetype": "text/x-python",
   "name": "python",
   "nbconvert_exporter": "python",
   "pygments_lexer": "ipython2",
   "version": "2.7.6"
  }
 },
 "nbformat": 4,
 "nbformat_minor": 0
}