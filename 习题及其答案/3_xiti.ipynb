{
 "cells": [
  {
   "cell_type": "code",
   "execution_count": 1,
   "metadata": {
    "collapsed": true,
    "pycharm": {
     "name": "#%%3.1\n"
    }
   },
   "outputs": [
    {
     "name": "stdout",
     "output_type": "stream",
     "text": [
      "-1/6 + 5*sqrt(5)/6\n",
      "1/2\n"
     ]
    }
   ],
   "source": [
    "from sympy import *\n",
    "x = symbols('x')\n",
    "print(integrate(sqrt(1+4*x),(x,0,1)))\n",
    "print(integrate(exp(-x)*sin(x),(x,0,oo)))"
   ]
  },
  {
   "cell_type": "code",
   "execution_count": 2,
   "outputs": [
    {
     "name": "stdout",
     "output_type": "stream",
     "text": [
      "符号解为：[4/3 + (-1/2 - sqrt(3)*I/2)*(64/27 + 2*sqrt(114)/9)**(1/3) - 2/(9*(-1/2 - sqrt(3)*I/2)*(64/27 + 2*sqrt(114)/9)**(1/3)), 4/3 - 2/(9*(-1/2 + sqrt(3)*I/2)*(64/27 + 2*sqrt(114)/9)**(1/3)) + (-1/2 + sqrt(3)*I/2)*(64/27 + 2*sqrt(114)/9)**(1/3), -2/(9*(64/27 + 2*sqrt(114)/9)**(1/3)) + 4/3 + (64/27 + 2*sqrt(114)/9)**(1/3)]\n",
      "数值解为:[2.8812394]\n"
     ]
    }
   ],
   "source": [
    "from sympy import symbols,solve\n",
    "from scipy.optimize import fsolve\n",
    "x = symbols('x')\n",
    "f = x**3-4*x**2+6*x-8\n",
    "f1 = lambda x1:x1**3-4*x1**2+6*x1-8\n",
    "print('符号解为：{}'.format(solve(f)))\n",
    "print('数值解为:{}'.format(fsolve(f1,0)))"
   ],
   "metadata": {
    "collapsed": false,
    "pycharm": {
     "name": "#%%3.2\n"
    }
   }
  },
  {
   "cell_type": "code",
   "execution_count": 3,
   "outputs": [
    {
     "name": "stdout",
     "output_type": "stream",
     "text": [
      "方程组符号解为: [(0, 0), (2/3, -2/9)]\n",
      "方程组的数值解为: [ 0.66666667 -0.22222222]\n"
     ]
    }
   ],
   "source": [
    "from sympy import symbols,solve\n",
    "from scipy.optimize import fsolve\n",
    "x,y = symbols('x y')\n",
    "s = solve([x**2-y-x,x+3*y],[x,y])\n",
    "print('方程组符号解为:',s)\n",
    "f = lambda x:[x[0]**2-x[1]-x[0],x[0]+3*x[1]]\n",
    "q = fsolve(f,[1,1])\n",
    "print('方程组的数值解为:',q)"
   ],
   "metadata": {
    "collapsed": false,
    "pycharm": {
     "name": "#%%3.3\n"
    }
   }
  },
  {
   "cell_type": "code",
   "execution_count": 4,
   "outputs": [
    {
     "name": "stdout",
     "output_type": "stream",
     "text": [
      "微分方程的解为： Eq(y(x), x*sin(2*x)/10 - x*cos(2*x)/5 + 4*sin(2*x)/25 + 13*cos(2*x)/100 + 3*((-71 + 12*sin(4) - 9*cos(4))*exp(2) - 29*exp(2) + 29)/(100*(1 - exp(2))) + 3*(9*cos(4) - 12*sin(4) + 71)*exp(2)*exp(-x)/(100*(1 - exp(2))))\n"
     ]
    }
   ],
   "source": [
    "from sympy import symbols,dsolve,diff,cos\n",
    "x=symbols('x')\n",
    "y=symbols('y',cls=Function)\n",
    "eq = diff(y(x),x,2)+diff(y(x),x,1)-x*cos(2*x)\n",
    "print('微分方程的解为：',dsolve(eq,y(x),ics={y(0):1,y(2):3}))"
   ],
   "metadata": {
    "collapsed": false,
    "pycharm": {
     "name": "#%%3.4\n"
    }
   }
  },
  {
   "cell_type": "code",
   "execution_count": 5,
   "outputs": [
    {
     "name": "stdout",
     "output_type": "stream",
     "text": [
      "分块矩阵A：\n",
      " Matrix([[1, 2, 1, 1], [3, 4, 2, 2], [5, 6, 3, 4], [2, 6, 3, 2]])\n",
      "A的行列式为:\n",
      " 0\n"
     ]
    }
   ],
   "source": [
    "import sympy as sp\n",
    "a1=sp.Matrix([[1,2],[3,4],[5,6]])\n",
    "a2=sp.Matrix([[1,1],[2,2],[3,4]])\n",
    "a3 = sp.Matrix([[2,6]])\n",
    "a4 = sp.Matrix([[3,2]])\n",
    "a0 = a1.col_join(a3)\n",
    "a00 = a2.col_join(a4)\n",
    "a = a0.row_join(a00)\n",
    "print('分块矩阵A：\\n',a)\n",
    "print('A的行列式为:\\n',sp.det(a))"
   ],
   "metadata": {
    "collapsed": false,
    "pycharm": {
     "name": "#%%3.5\n"
    }
   }
  },
  {
   "cell_type": "code",
   "execution_count": 6,
   "outputs": [
    {
     "name": "stdout",
     "output_type": "stream",
     "text": [
      "2\n",
      "2\n",
      "(Matrix([\n",
      "[1, 2, 0, -1],\n",
      "[0, 0, 1,  0],\n",
      "[0, 0, 0,  0]]), (0, 2))\n",
      "(Matrix([\n",
      "[1, 1/2, -1/2, 0, 1/2],\n",
      "[0,   0,    0, 1,   0],\n",
      "[0,   0,    0, 0,   0]]), (0, 3))\n"
     ]
    }
   ],
   "source": [
    "import sympy as sp\n",
    "A=sp.Matrix([[1,2,1,-1],[3,6,-1,-3],[5,10,1,-5]])\n",
    "print(A.rank())\n",
    "B=sp.Matrix([[2,1,-1,1],[4,2,-2,1],[2,1,-1,-1]])\n",
    "b=sp.Matrix([[1],[2],[1]])\n",
    "print(B.rank())\n",
    "print(A.rref())\n",
    "C=B.row_join(b)\n",
    "print(C.rref())"
   ],
   "metadata": {
    "collapsed": false,
    "pycharm": {
     "name": "#%%3.6\n"
    }
   }
  },
  {
   "cell_type": "code",
   "execution_count": 7,
   "outputs": [
    {
     "name": "stdout",
     "output_type": "stream",
     "text": [
      "2\n",
      "[[ 1.21304348]\n",
      " [-1.44782609]\n",
      " [ 1.95652174]]\n",
      "[[-4.05323966e+15]\n",
      " [ 1.48618788e+16]\n",
      " [ 1.35107989e+16]]\n",
      "[[-4.05323966e+15]\n",
      " [ 1.48618788e+16]\n",
      " [ 1.35107989e+16]]\n",
      "2\n",
      "[[ 0.33333333]\n",
      " [ 1.33333333]\n",
      " [-0.66666667]]\n"
     ]
    }
   ],
   "source": [
    "import numpy as np\n",
    "import numpy.linalg as la\n",
    "A = np.array([[4,2,-1],[3,-1,2],[11,3,0]])\n",
    "b = np.array([2,10,8]).reshape(3,1)\n",
    "print(la.matrix_rank(A))\n",
    "print(la.pinv(A).dot(b))\n",
    "print(la.inv(A).dot(b))\n",
    "print(la.solve(A,b))\n",
    "\n",
    "A1 = np.array([[2,3,1],[1,-2,4],[3,8,-2],[4,-1,9]])\n",
    "b1 = np.array([4,-5,13,-6]).reshape(4,1)\n",
    "print(la.matrix_rank(A1))\n",
    "print(la.pinv(A1).dot(b1))"
   ],
   "metadata": {
    "collapsed": false,
    "pycharm": {
     "name": "#%%3.7\n"
    }
   }
  },
  {
   "cell_type": "code",
   "execution_count": 8,
   "outputs": [
    {
     "name": "stdout",
     "output_type": "stream",
     "text": [
      "特征值为：\n",
      " [ 2. 11.  2.]\n",
      "特征向量为:\n",
      " [[-0.74535599  0.66666667 -0.34869867]\n",
      " [ 0.2981424   0.33333333 -0.65103258]\n",
      " [ 0.59628479  0.66666667  0.67421496]]\n"
     ]
    }
   ],
   "source": [
    "from numpy import array\n",
    "from numpy.linalg import eig\n",
    "A2 = array([[6,2,4],[2,3,2],[4,2,6]])\n",
    "r,v=eig(A2)\n",
    "print('特征值为：\\n',r)\n",
    "print('特征向量为:\\n',v)"
   ],
   "metadata": {
    "collapsed": false,
    "pycharm": {
     "name": "#%%3.8\n"
    }
   }
  },
  {
   "cell_type": "code",
   "execution_count": 17,
   "outputs": [],
   "source": [
    "import sympy as sp\n",
    "from numpy import array\n",
    "import numpy.linalg as la\n",
    "a,b = sp.symbols('a b')\n",
    "l = sp.symbols('l')\n",
    "f = sp.Matrix([[1,a+1,1],[a+1,1,b],[1,b,1]])\n",
    "b = array([[0,0,0],[0,1,0],[0,0,2]])\n",
    "x = sp.simplify((sp.det(l*sp.eye(3)-f)))"
   ],
   "metadata": {
    "collapsed": false,
    "pycharm": {
     "name": "#%%3.9\n"
    }
   }
  },
  {
   "cell_type": "code",
   "execution_count": 2,
   "outputs": [
    {
     "name": "stdout",
     "output_type": "stream",
     "text": [
      "cos(1) + O(x)\n",
      "cos(1) - x**2*sin(1)/2 + O(x**3)\n",
      "cos(1) - x**2*sin(1)/2 + x**4*(-cos(1)/8 + sin(1)/8) + O(x**5)\n"
     ]
    },
    {
     "data": {
      "text/plain": "<Figure size 432x288 with 1 Axes>",
      "image/png": "[encoded data removed]"
     },
     "metadata": {
      "needs_background": "light"
     },
     "output_type": "display_data"
    },
    {
     "data": {
      "text/plain": "<sympy.plotting.plot.Plot at 0x209266d69e8>"
     },
     "execution_count": 2,
     "metadata": {},
     "output_type": "execute_result"
    }
   ],
   "source": [
    "from pylab import rc\n",
    "from sympy import *\n",
    "from sympy.plotting import *\n",
    "rc('font',size=15)\n",
    "rc('text',usetex=True)\n",
    "x = symbols('x')\n",
    "y = cos(sqrt(x**2+1))\n",
    "for k in range(1,7,2):\n",
    "    print(y.series(x,0,k))\n",
    "plot(y,series(y,x,0,1).removeO(),series(y,x,0,3).removeO(),\n",
    "     series(y,x,0,5).removeO(),xlabel='$x$',ylabel='$y$')"
   ],
   "metadata": {
    "collapsed": false,
    "pycharm": {
     "name": "#%%3.10\n"
    }
   }
  },
  {
   "cell_type": "code",
   "execution_count": 59,
   "outputs": [],
   "source": [],
   "metadata": {
    "collapsed": false,
    "pycharm": {
     "name": "#%%3.11\n"
    }
   }
  },
  {
   "cell_type": "code",
   "execution_count": 77,
   "outputs": [
    {
     "name": "stdout",
     "output_type": "stream",
     "text": [
      "积分的数值解为： (0.8328534212790222, 1.2431818039574587e-08)\n",
      "积分数值解为: (21.407142857142855, 2.3766702891439954e-13)\n",
      "积分数值解为: 67.02064327658225\n"
     ]
    }
   ],
   "source": [
    "from scipy.integrate import quad,dblquad,tplquad\n",
    "#(1)\n",
    "from numpy import exp,sin,sqrt,cos,pi\n",
    "f1 = lambda x: exp(-x)*sin(sqrt(x**2+2))\n",
    "print('积分的数值解为：',quad(f1,0,oo))\n",
    "#（2）\n",
    "f2 = lambda x,y: x**2+2*y**2\n",
    "a1 = lambda y: y**2\n",
    "a2 = lambda y: y+2\n",
    "print('积分数值解为:',dblquad(f2,-1,2,a1,a2))\n",
    "#(3)\n",
    "f3 = lambda z,r: z*r\n",
    "a3 = lambda r:r**2\n",
    "s=dblquad(f3,0,2,a3,4)\n",
    "print('积分数值解为:',2*pi*s[0])"
   ],
   "metadata": {
    "collapsed": false,
    "pycharm": {
     "name": "#%% 3.12\n"
    }
   }
  },
  {
   "cell_type": "code",
   "execution_count": 78,
   "outputs": [
    {
     "name": "stdout",
     "output_type": "stream",
     "text": [
      "极小点为:2.9999965472915386,极小值为:0.014052291856879841\n",
      "极大点为:0.7853986146616215,极大值为:0.6447938838895375\n"
     ]
    }
   ],
   "source": [
    "from numpy import exp,sin\n",
    "from scipy.optimize import fminbound\n",
    "f = lambda x:2*exp(-x)*sin(x)\n",
    "x0 = fminbound(f,0,3)\n",
    "print('极小点为:{},极小值为:{}'.format(x0,f(x0)))\n",
    "f1 = lambda x:-2*exp(-x)*sin(x)\n",
    "x1 = fminbound(f1,0,3)\n",
    "print('极大点为:{},极大值为:{}'.format(x1,f(x1)))"
   ],
   "metadata": {
    "collapsed": false,
    "pycharm": {
     "name": "#%%3.13\n"
    }
   }
  },
  {
   "cell_type": "code",
   "execution_count": 2,
   "outputs": [
    {
     "data": {
      "text/plain": "<Figure size 432x288 with 1 Axes>",
      "image/png": "[encoded data removed]"
     },
     "metadata": {
      "needs_background": "light"
     },
     "output_type": "display_data"
    },
    {
     "data": {
      "text/plain": "<Figure size 432x288 with 1 Axes>",
      "image/png": "[encoded data removed]"
     },
     "metadata": {
      "needs_background": "light"
     },
     "output_type": "display_data"
    },
    {
     "name": "stdout",
     "output_type": "stream",
     "text": [
      "51.3126800086333\n",
      "1126313.32618950\n"
     ]
    }
   ],
   "source": [
    "from numpy import pi\n",
    "from sympy import  plot_implicit as pt,Eq\n",
    "from sympy.abc import x,y\n",
    "pt(Eq(x**2+(y-2)**2,4),(x,-5,5),(y,1,3),xlabel='$x$',ylabel='$y$')\n",
    "pt(Eq(x**2+y**2,4),(x,-5,5),(y,-3,1))\n",
    "from sympy.integrals import integrate\n",
    "v = pi*integrate((4-y**2),(y,-2,1))+pi*integrate((4*y-y**2),(y,1,3))\n",
    "print(v)\n",
    "g=9.8\n",
    "r=10**3\n",
    "w = r*g*pi*(integrate((4-y**2)*(3-y),(y,-2,1))+integrate(((4*y-y**2)*(3-y)),(y,1,3)))\n",
    "print(w)"
   ],
   "metadata": {
    "collapsed": false,
    "pycharm": {
     "name": "#%%3.14\n"
    }
   }
  },
  {
   "cell_type": "code",
   "execution_count": 108,
   "outputs": [
    {
     "name": "stdout",
     "output_type": "stream",
     "text": [
      "[(15*log(2)/7, 7000)]\n"
     ]
    },
    {
     "data": {
      "text/plain": "<Figure size 432x288 with 1 Axes>",
      "image/png": "[encoded data removed]"
     },
     "metadata": {
      "needs_background": "light"
     },
     "output_type": "display_data"
    }
   ],
   "source": [
    "import sympy as sp\n",
    "import matplotlib.pyplot as plt\n",
    "import numpy as np\n",
    "t,t1 = symbols('t t1')\n",
    "s = symbols('s',cls=Function)\n",
    "m = symbols('m')\n",
    "k = symbols('k')\n",
    "eq = m*diff(s(t),t,2)+ k*diff(s(t),t,1)\n",
    "st = sp.dsolve(eq,s(t),ics={s(0):0,diff(s(t),t).subs(t,0):800})\n",
    "s1 = st.args[1]\n",
    "s1=s1.subs(m,5000)\n",
    "print(sp.solve([s1.subs(t,t1)-500,diff(s1,t).subs(t,t1)-100],[t1,k]))\n",
    "s2 = s1.subs(k,7000)\n",
    "\n",
    "for i in np.linspace(0,1,100):\n",
    "    plt.plot(i,s2.subs(t,i),'ro')\n",
    "plt.show()"
   ],
   "metadata": {
    "collapsed": false,
    "pycharm": {
     "name": "#%%3.15\n"
    }
   }
  },
  {
   "cell_type": "code",
   "execution_count": 15,
   "outputs": [
    {
     "name": "stdout",
     "output_type": "stream",
     "text": [
      "4800/7 - 4800*exp(-7*t/8)/7\n",
      "[]\n"
     ]
    }
   ],
   "source": [
    "from sympy import *\n",
    "import matplotlib.pyplot as plt\n",
    "import numpy as np\n",
    "t,t1 = symbols('t t1')\n",
    "s = symbols('s',cls=Function)\n",
    "m = symbols('m')\n",
    "k = symbols('k')\n",
    "eq = m*diff(s(t),t,2)+ k*diff(s(t),t,1)\n",
    "st = sp.dsolve(eq,s(t),ics={s(0):0,diff(s(t),t).subs(t,0):600})\n",
    "s1 = st.args[1]\n",
    "s1=s1.subs(m,8000)\n",
    "s2 = s1.subs(k,7000)\n",
    "print(s2)\n",
    "print(sp.solve([s2.subs(t,t1)-1200,diff(s2,t).subs(t,t1)],t1))"
   ],
   "metadata": {
    "collapsed": false,
    "pycharm": {
     "name": "#%%3.15\n"
    }
   }
  },
  {
   "cell_type": "code",
   "execution_count": 16,
   "outputs": [
    {
     "name": "stdout",
     "output_type": "stream",
     "text": [
      "极小点为：[1.31759941 1.73607321]，极小值为：-0.00016724664483780784\n"
     ]
    }
   ],
   "source": [
    "from scipy.optimize import minimize\n",
    "f = lambda x:100*(x[1]-x[0]**2)**2+(1-np.sin(x[0]))**2*np.cos(x[1])\n",
    "x0 = minimize(f,[2.0,2.0])\n",
    "print('极小点为：{}，极小值为：{}'.format(x0.x,x0.fun))"
   ],
   "metadata": {
    "collapsed": false,
    "pycharm": {
     "name": "#%%3.16\n"
    }
   }
  }
 ],
 "metadata": {
  "kernelspec": {
   "display_name": "Python 3",
   "language": "python",
   "name": "python3"
  },
  "language_info": {
   "codemirror_mode": {
    "name": "ipython",
    "version": 2
   },
   "file_extension": ".py",
   "mimetype": "text/x-python",
   "name": "python",
   "nbconvert_exporter": "python",
   "pygments_lexer": "ipython2",
   "version": "2.7.6"
  }
 },
 "nbformat": 4,
 "nbformat_minor": 0
}