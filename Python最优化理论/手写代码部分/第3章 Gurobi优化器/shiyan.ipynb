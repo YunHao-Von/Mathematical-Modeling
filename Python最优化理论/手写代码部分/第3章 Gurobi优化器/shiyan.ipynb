{
 "cells": [
  {
   "cell_type": "code",
   "execution_count": 1,
   "metadata": {
    "collapsed": true
   },
   "outputs": [],
   "source": [
    "import gurobipy as gp\n",
    "from gurobipy import GRB"
   ]
  },
  {
   "cell_type": "code",
   "execution_count": 3,
   "outputs": [
    {
     "name": "stdout",
     "output_type": "stream",
     "text": [
      "[((0, 0, 0), (1, 0, 0), (2, 0, 0)), ((0, 0, 0), (0, 1, 0), (0, 2, 0)), ((0, 0, 0), (0, 0, 1), (0, 0, 2)), ((0, 0, 0), (1, 1, 0), (2, 2, 0)), ((0, 0, 0), (1, 0, 1), (2, 0, 2)), ((0, 0, 0), (0, 1, 1), (0, 2, 2)), ((0, 0, 1), (1, 0, 1), (2, 0, 1)), ((0, 0, 1), (0, 1, 1), (0, 2, 1)), ((0, 0, 1), (1, 1, 1), (2, 2, 1)), ((0, 0, 2), (1, 0, 2), (2, 0, 2)), ((0, 0, 2), (0, 1, 2), (0, 2, 2)), ((0, 0, 2), (1, 1, 2), (2, 2, 2)), ((0, 0, 2), (1, 0, 1), (2, 0, 0)), ((0, 0, 2), (0, 1, 1), (0, 2, 0)), ((0, 1, 0), (1, 1, 0), (2, 1, 0)), ((0, 1, 0), (0, 1, 1), (0, 1, 2)), ((0, 1, 0), (1, 1, 1), (2, 1, 2)), ((0, 1, 1), (1, 1, 1), (2, 1, 1)), ((0, 1, 2), (1, 1, 2), (2, 1, 2)), ((0, 1, 2), (1, 1, 1), (2, 1, 0)), ((0, 2, 0), (1, 2, 0), (2, 2, 0)), ((0, 2, 0), (0, 2, 1), (0, 2, 2)), ((0, 2, 0), (1, 1, 0), (2, 0, 0)), ((0, 2, 0), (1, 2, 1), (2, 2, 2)), ((0, 2, 1), (1, 2, 1), (2, 2, 1)), ((0, 2, 1), (1, 1, 1), (2, 0, 1)), ((0, 2, 2), (1, 2, 2), (2, 2, 2)), ((0, 2, 2), (1, 1, 2), (2, 0, 2)), ((0, 2, 2), (1, 2, 1), (2, 2, 0)), ((1, 0, 0), (1, 1, 0), (1, 2, 0)), ((1, 0, 0), (1, 0, 1), (1, 0, 2)), ((1, 0, 0), (1, 1, 1), (1, 2, 2)), ((1, 0, 1), (1, 1, 1), (1, 2, 1)), ((1, 0, 2), (1, 1, 2), (1, 2, 2)), ((1, 0, 2), (1, 1, 1), (1, 2, 0)), ((1, 1, 0), (1, 1, 1), (1, 1, 2)), ((1, 2, 0), (1, 2, 1), (1, 2, 2)), ((2, 0, 0), (2, 1, 0), (2, 2, 0)), ((2, 0, 0), (2, 0, 1), (2, 0, 2)), ((2, 0, 0), (2, 1, 1), (2, 2, 2)), ((2, 0, 1), (2, 1, 1), (2, 2, 1)), ((2, 0, 2), (2, 1, 2), (2, 2, 2)), ((2, 0, 2), (2, 1, 1), (2, 2, 0)), ((2, 1, 0), (2, 1, 1), (2, 1, 2)), ((2, 2, 0), (2, 2, 1), (2, 2, 2)), ((0, 0, 0), (1, 1, 1), (2, 2, 2)), ((2, 0, 0), (1, 1, 1), (0, 2, 2)), ((0, 2, 0), (1, 1, 1), (2, 0, 2)), ((0, 0, 2), (1, 1, 1), (2, 2, 0))]\n"
     ]
    }
   ],
   "source": [
    "lines = []\n",
    "size = 3\n",
    "\n",
    "for i in range(size):\n",
    "    for j in range(size):\n",
    "        for k in range(size):\n",
    "            if i == 0:\n",
    "                lines.append(((0,j,k), (1,j,k), (2,j,k)))\n",
    "            if j == 0:\n",
    "                lines.append(((i,0,k), (i,1,k), (i,2,k)))\n",
    "            if k == 0:\n",
    "                lines.append(((i,j,0), (i,j,1), (i,j,2)))\n",
    "            if i == 0 and j == 0:\n",
    "                lines.append(((0,0,k), (1,1,k), (2,2,k)))\n",
    "            if i == 0 and j == 2:\n",
    "                lines.append(((0,2,k), (1,1,k), (2,0,k)))\n",
    "            if i == 0 and k == 0:\n",
    "                lines.append(((0,j,0), (1,j,1), (2,j,2)))\n",
    "            if i == 0 and k == 2:\n",
    "                lines.append(((0,j,2), (1,j,1), (2,j,0)))\n",
    "            if j == 0 and k == 0:\n",
    "                lines.append(((i,0,0), (i,1,1), (i,2,2)))\n",
    "            if j == 0 and k == 2:\n",
    "                lines.append(((i,0,2), (i,1,1), (i,2,0)))\n",
    "lines.append(((0,0,0), (1,1,1), (2,2,2)))\n",
    "lines.append(((2,0,0), (1,1,1), (0,2,2)))\n",
    "lines.append(((0,2,0), (1,1,1), (2,0,2)))\n",
    "lines.append(((0,0,2), (1,1,1), (2,2,0)))\n",
    "print(lines)"
   ],
   "metadata": {
    "collapsed": false,
    "pycharm": {
     "name": "#%%\n"
    }
   }
  },
  {
   "cell_type": "code",
   "execution_count": 8,
   "outputs": [
    {
     "ename": "AttributeError",
     "evalue": "Index out of range for attribute 'VarName'",
     "output_type": "error",
     "traceback": [
      "\u001B[1;31m---------------------------------------------------------------------------\u001B[0m",
      "\u001B[1;31mAttributeError\u001B[0m                            Traceback (most recent call last)",
      "\u001B[1;32m<ipython-input-8-58851062841f>\u001B[0m in \u001B[0;36m<module>\u001B[1;34m\u001B[0m\n\u001B[0;32m      3\u001B[0m \u001B[0misLine\u001B[0m \u001B[1;33m=\u001B[0m \u001B[0mmodel\u001B[0m\u001B[1;33m.\u001B[0m\u001B[0maddVars\u001B[0m\u001B[1;33m(\u001B[0m\u001B[0mlines\u001B[0m\u001B[1;33m,\u001B[0m \u001B[0mvtype\u001B[0m\u001B[1;33m=\u001B[0m\u001B[0mGRB\u001B[0m\u001B[1;33m.\u001B[0m\u001B[0mBINARY\u001B[0m\u001B[1;33m,\u001B[0m \u001B[0mname\u001B[0m\u001B[1;33m=\u001B[0m\u001B[1;34m\"isLine\"\u001B[0m\u001B[1;33m)\u001B[0m\u001B[1;33m\u001B[0m\u001B[1;33m\u001B[0m\u001B[0m\n\u001B[0;32m      4\u001B[0m \u001B[0mmodel\u001B[0m\u001B[1;33m.\u001B[0m\u001B[0msetObjective\u001B[0m\u001B[1;33m(\u001B[0m\u001B[0misLine\u001B[0m\u001B[1;33m.\u001B[0m\u001B[0msum\u001B[0m\u001B[1;33m(\u001B[0m\u001B[1;33m)\u001B[0m\u001B[1;33m)\u001B[0m\u001B[1;33m\u001B[0m\u001B[1;33m\u001B[0m\u001B[0m\n\u001B[1;32m----> 5\u001B[1;33m \u001B[0mprint\u001B[0m\u001B[1;33m(\u001B[0m\u001B[0misLine\u001B[0m\u001B[1;33m.\u001B[0m\u001B[0msum\u001B[0m\u001B[1;33m(\u001B[0m\u001B[1;33m)\u001B[0m\u001B[1;33m)\u001B[0m\u001B[1;33m\u001B[0m\u001B[1;33m\u001B[0m\u001B[0m\n\u001B[0m",
      "\u001B[1;32mlinexpr.pxi\u001B[0m in \u001B[0;36mgurobipy.LinExpr.__repr__\u001B[1;34m()\u001B[0m\n",
      "\u001B[1;32mvar.pxi\u001B[0m in \u001B[0;36mgurobipy.Var.getAttr\u001B[1;34m()\u001B[0m\n",
      "\u001B[1;32mattrutil.pxi\u001B[0m in \u001B[0;36mgurobipy.__getattr\u001B[1;34m()\u001B[0m\n",
      "\u001B[1;31mAttributeError\u001B[0m: Index out of range for attribute 'VarName'"
     ]
    }
   ],
   "source": [
    "model = gp.Model('Tic_Tac_Toe')\n",
    "isX = model.addVars(size, size, size, vtype=GRB.BINARY, name=\"isX\")\n",
    "isLine = model.addVars(lines, vtype=GRB.BINARY, name=\"isLine\")\n",
    "model.setObjective(isLine.sum())\n",
    "print(isLine.sum())"
   ],
   "metadata": {
    "collapsed": false,
    "pycharm": {
     "name": "#%%\n"
    }
   }
  }
 ],
 "metadata": {
  "kernelspec": {
   "display_name": "Python 3",
   "language": "python",
   "name": "python3"
  },
  "language_info": {
   "codemirror_mode": {
    "name": "ipython",
    "version": 2
   },
   "file_extension": ".py",
   "mimetype": "text/x-python",
   "name": "python",
   "nbconvert_exporter": "python",
   "pygments_lexer": "ipython2",
   "version": "2.7.6"
  }
 },
 "nbformat": 4,
 "nbformat_minor": 0
}