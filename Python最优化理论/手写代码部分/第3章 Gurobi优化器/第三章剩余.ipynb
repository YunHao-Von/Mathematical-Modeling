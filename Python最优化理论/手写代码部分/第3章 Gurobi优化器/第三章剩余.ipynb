{
 "cells": [
  {
   "cell_type": "code",
   "execution_count": 4,
   "outputs": [
    {
     "name": "stdout",
     "output_type": "stream",
     "text": [
      "<class 'gurobipy.tupledict'>\n"
     ]
    },
    {
     "ename": "AttributeError",
     "evalue": "Index out of range for attribute 'VarName'",
     "output_type": "error",
     "traceback": [
      "\u001B[1;31m---------------------------------------------------------------------------\u001B[0m",
      "\u001B[1;31mAttributeError\u001B[0m                            Traceback (most recent call last)",
      "\u001B[1;32m<ipython-input-4-28eee5da37b7>\u001B[0m in \u001B[0;36m<module>\u001B[1;34m\u001B[0m\n\u001B[0;32m      9\u001B[0m \u001B[0mprint\u001B[0m\u001B[1;33m(\u001B[0m\u001B[0mtype\u001B[0m\u001B[1;33m(\u001B[0m\u001B[0mvars\u001B[0m\u001B[1;33m)\u001B[0m\u001B[1;33m)\u001B[0m\u001B[1;33m\u001B[0m\u001B[1;33m\u001B[0m\u001B[0m\n\u001B[0;32m     10\u001B[0m \u001B[0mmodel\u001B[0m\u001B[1;33m.\u001B[0m\u001B[0msetObjective\u001B[0m\u001B[1;33m(\u001B[0m\u001B[0msum\u001B[0m\u001B[1;33m(\u001B[0m\u001B[0mvar_list\u001B[0m\u001B[1;33m)\u001B[0m\u001B[1;33m)\u001B[0m\u001B[1;33m\u001B[0m\u001B[1;33m\u001B[0m\u001B[0m\n\u001B[1;32m---> 11\u001B[1;33m \u001B[0mprint\u001B[0m\u001B[1;33m(\u001B[0m\u001B[0mvars\u001B[0m\u001B[1;33m.\u001B[0m\u001B[0msum\u001B[0m\u001B[1;33m(\u001B[0m\u001B[1;36m1\u001B[0m\u001B[1;33m,\u001B[0m\u001B[1;34m'*'\u001B[0m\u001B[1;33m)\u001B[0m\u001B[1;33m)\u001B[0m\u001B[1;33m\u001B[0m\u001B[1;33m\u001B[0m\u001B[0m\n\u001B[0m",
      "\u001B[1;32mlinexpr.pxi\u001B[0m in \u001B[0;36mgurobipy.LinExpr.__repr__\u001B[1;34m()\u001B[0m\n",
      "\u001B[1;32mvar.pxi\u001B[0m in \u001B[0;36mgurobipy.Var.getAttr\u001B[1;34m()\u001B[0m\n",
      "\u001B[1;32mattrutil.pxi\u001B[0m in \u001B[0;36mgurobipy.__getattr\u001B[1;34m()\u001B[0m\n",
      "\u001B[1;31mAttributeError\u001B[0m: Index out of range for attribute 'VarName'"
     ]
    }
   ],
   "source": [
    "import gurobipy as grb\n",
    "from gurobipy import GRB\n",
    "model = grb.Model('tic_tac')\n",
    "t1 = [(1, 1), (1, 2), (1, 3),\n",
    "      (2, 1), (2, 2), (2, 3),\n",
    "      (3, 1), (3, 2), (3, 3)]\n",
    "vars = model.addVars(t1, name='d',vtype=GRB.BINARY)\n",
    "var_list=vars.select(1,'*')\n",
    "print(type(vars))\n",
    "model.setObjective(sum(var_list))\n",
    "print(vars.sum(1,'*'))"
   ],
   "metadata": {
    "collapsed": false,
    "pycharm": {
     "name": "#%%\n"
    }
   }
  }
 ],
 "metadata": {
  "kernelspec": {
   "name": "pycharm-1dac48b0",
   "language": "python",
   "display_name": "PyCharm (shiyan)"
  },
  "language_info": {
   "codemirror_mode": {
    "name": "ipython",
    "version": 2
   },
   "file_extension": ".py",
   "mimetype": "text/x-python",
   "name": "python",
   "nbconvert_exporter": "python",
   "pygments_lexer": "ipython2",
   "version": "2.7.6"
  }
 },
 "nbformat": 4,
 "nbformat_minor": 0
}